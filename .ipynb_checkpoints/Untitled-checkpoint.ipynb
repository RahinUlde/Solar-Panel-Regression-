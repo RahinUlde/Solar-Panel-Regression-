{
 "cells": [
  {
   "cell_type": "code",
   "execution_count": 1,
   "id": "58947b49-6397-493a-a3e7-d82bd0280273",
   "metadata": {},
   "outputs": [
    {
     "ename": "SyntaxError",
     "evalue": "unmatched '}' (40822864.py, line 41)",
     "output_type": "error",
     "traceback": [
      "  \u001b[36mCell\u001b[39m\u001b[36m \u001b[39m\u001b[32mIn[1]\u001b[39m\u001b[32m, line 41\u001b[39m\n\u001b[31m    \u001b[39m\u001b[31mjoblib.dump(pipeline, \"random_forest_pipeline.pkl\")}\u001b[39m\n                                                       ^\n\u001b[31mSyntaxError\u001b[39m\u001b[31m:\u001b[39m unmatched '}'\n"
     ]
    }
   ],
   "source": [
    "from sklearn.pipeline import Pipeline\n",
    "from sklearn.impute import SimpleImputer\n",
    "from sklearn.ensemble import RandomForestRegressor\n",
    "from sklearn.preprocessing import FunctionTransformer\n",
    "\n",
    "# Step 1: Custom function for dropping column & handling outliers\n",
    "def preprocess_data(df):\n",
    "    # Drop \"visibility\"\n",
    "    df = df.drop(columns=[\"visibility\"], errors=\"ignore\")\n",
    "    \n",
    "    # Example: handle outliers via capping\n",
    "    for col in df.select_dtypes(include=['float64', 'int64']).columns:\n",
    "        q1 = df[col].quantile(0.25)\n",
    "        q3 = df[col].quantile(0.75)\n",
    "        iqr = q3 - q1\n",
    "        lower = q1 - 1.5 * iqr\n",
    "        upper = q3 + 1.5 * iqr\n",
    "        df[col] = df[col].clip(lower, upper)\n",
    "    return df\n",
    "\n",
    "# Function transformer wrapper\n",
    "preprocessor = FunctionTransformer(preprocess_data)\n",
    "\n",
    "# Final pipeline\n",
    "pipeline = Pipeline([\n",
    "    ('preprocess', preprocessor),                 # Custom preprocessing\n",
    "    ('imputer', SimpleImputer(strategy='median')), # Missing values\n",
    "    ('model', RandomForestRegressor(\n",
    "        n_estimators=100,\n",
    "        random_state=42\n",
    "    ))\n",
    "])\n",
    "\n",
    "# Train pipeline\n",
    "pipeline.fit(X_train, y_train)\n",
    "\n",
    "pipeline.predict(X_test)\n",
    "\n",
    "# Save for deployment\n",
    "import joblib\n",
    "joblib.dump(pipeline, \"random_forest_pipeline.pkl\")}"
   ]
  },
  {
   "cell_type": "code",
   "execution_count": null,
   "id": "c0c7a62f-0576-4c36-971d-866f355a8ac1",
   "metadata": {},
   "outputs": [],
   "source": []
  }
 ],
 "metadata": {
  "kernelspec": {
   "display_name": "Python (DS_env)",
   "language": "python",
   "name": "ds_env"
  },
  "language_info": {
   "codemirror_mode": {
    "name": "ipython",
    "version": 3
   },
   "file_extension": ".py",
   "mimetype": "text/x-python",
   "name": "python",
   "nbconvert_exporter": "python",
   "pygments_lexer": "ipython3",
   "version": "3.11.13"
  }
 },
 "nbformat": 4,
 "nbformat_minor": 5
}
